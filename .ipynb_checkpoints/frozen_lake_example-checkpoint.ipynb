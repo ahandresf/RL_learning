{
 "cells": [
  {
   "cell_type": "code",
   "execution_count": 2,
   "metadata": {},
   "outputs": [
    {
     "name": "stdout",
     "output_type": "stream",
     "text": [
      "This is my first test in open gym\n"
     ]
    },
    {
     "name": "stderr",
     "output_type": "stream",
     "text": [
      "/home/leasanspy/tensorflow/local/lib/python2.7/site-packages/h5py/__init__.py:36: FutureWarning: Conversion of the second argument of issubdtype from `float` to `np.floating` is deprecated. In future, it will be treated as `np.float64 == np.dtype(float).type`.\n",
      "  from ._conv import register_converters as _register_converters\n"
     ]
    }
   ],
   "source": [
    "print(\"This is my first test in open gym\")\n",
    "import gym\n",
    "import numpy as np\n",
    "import tensorflow as tf"
   ]
  },
  {
   "cell_type": "code",
   "execution_count": 6,
   "metadata": {},
   "outputs": [],
   "source": [
    "env = gym.make('FrozenLake-v0')"
   ]
  },
  {
   "cell_type": "code",
   "execution_count": 27,
   "metadata": {},
   "outputs": [],
   "source": [
    "#Belleman equation for Q. => return the value table\n",
    "def compute_value_function(policy,gamma=1.0):\n",
    "    value_table=np.zeros(env.nS) #initiate the value table with zeros, array of the same lenght of number of states\n",
    "    print(value_table)\n",
    "    threshold=1e-10 #when the value function change less than this we go out \n",
    "    while True:\n",
    "        update_value_table = np.copy(value_table)\n",
    "        print(\"test\")\n",
    "        for state in range(env.nS): #for each state in the enviroment states\n",
    "            action = policy(state) #performe the action store in the policy for this specific state\n",
    "            #Belleman equation for Q          \n",
    "            value_table[state]=sum(trans_prob * (reward_prob + gamma*updated_value_table[next_state])\n",
    "                                   for trans_prob, next_state,reward_prob, _ in env.P[state][action])#for this specific state compute the probable reward for all possible actions\n",
    "        if (np.sum((np.fabs(updated_value_table - value_table))) <= threshold):\n",
    "            break\n",
    "    return value_table"
   ]
  },
  {
   "cell_type": "code",
   "execution_count": 29,
   "metadata": {},
   "outputs": [],
   "source": [
    "#test_var=np.zeros(env.nS)"
   ]
  },
  {
   "cell_type": "code",
   "execution_count": 30,
   "metadata": {},
   "outputs": [],
   "source": [
    "#This function extract the policy from the Q_table\n",
    "def extract_policy(value_table, gamma):\n",
    "    policy = np.zeros(env.observation_space.n) #create an array of 16 elements = number of elements in the observation space\n",
    "    for state in range(env.action_space.n):\n",
    "        Q_table=np.zeros(env.action_space.n) #Array of size of the action space for that state, can this change\n",
    "        for action in range(env.action_space.n): #iterate among the posible actions in that state\n",
    "            for next_sr in env.P[state][action]: #after taking an action, iterate over all the possible NEXT_state_reward\n",
    "                trans_prob, next_state, reward_prob, _ = next_sr \n",
    "                Q_table[action] += (trans_prob * (reward_prob + gamma * value_table[next_state])) #call the value table definition, and with that it does get the Q table\n",
    "            policy[state]=np.argmax(Q_table) #The max value in the Q table. \n",
    "            return policy"
   ]
  },
  {
   "cell_type": "code",
   "execution_count": 32,
   "metadata": {},
   "outputs": [
    {
     "name": "stdout",
     "output_type": "stream",
     "text": [
      "[0. 0. 0. 0. 0. 0. 0. 0. 0. 0. 0. 0. 0. 0. 0. 0.]\n"
     ]
    }
   ],
   "source": [
    "test_var=np.zeros(env.observation_space.n)\n",
    "print(test_var)"
   ]
  },
  {
   "cell_type": "code",
   "execution_count": null,
   "metadata": {},
   "outputs": [],
   "source": [
    "def policy_iteration(env,gamma=1):\n",
    "    random_policy = np.zeros(env.observation_space.n) #what is the observation space for our problem\n",
    "    no_of_iterations = 200000\n",
    "    gamma=1 #define how important are the future probable rewards in the policy desicion\n",
    "    for i in range(no_of_iterations):\n",
    "        new_value_function=compute_value_function(random_policy,gamma)\n",
    "        "
   ]
  }
 ],
 "metadata": {
  "kernelspec": {
   "display_name": "Python 2",
   "language": "python",
   "name": "python2"
  },
  "language_info": {
   "codemirror_mode": {
    "name": "ipython",
    "version": 2
   },
   "file_extension": ".py",
   "mimetype": "text/x-python",
   "name": "python",
   "nbconvert_exporter": "python",
   "pygments_lexer": "ipython2",
   "version": "2.7.12"
  }
 },
 "nbformat": 4,
 "nbformat_minor": 2
}
