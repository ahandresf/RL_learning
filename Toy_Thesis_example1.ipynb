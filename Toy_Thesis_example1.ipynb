{
 "cells": [
  {
   "cell_type": "code",
   "execution_count": null,
   "metadata": {},
   "outputs": [],
   "source": [
    "print(\"This is my first test in open gym\")\n",
    "import gym\n",
    "import numpy as np\n",
    "import tensorflow as tf"
   ]
  },
  {
   "cell_type": "code",
   "execution_count": null,
   "metadata": {},
   "outputs": [],
   "source": [
    "env = gym.make('my_enviroment')"
   ]
  },
  {
   "cell_type": "code",
   "execution_count": null,
   "metadata": {},
   "outputs": [],
   "source": [
    "#Belleman equation for Q. => return the value table\n",
    "def compute_value_function(policy,gamma=1.0):\n",
    "    value_table=np.zeros(env.nS) #initiate the value table with zeros, array of the same lenght of number of states\n",
    "    print(value_table)\n",
    "    threshold=1e-10 #when the value function change less than this we go out \n",
    "    while True:\n",
    "        update_value_table = np.copy(value_table)\n",
    "        print(\"test\")\n",
    "        for state in range(env.nS): #for each state in the enviroment states\n",
    "            action = policy(state) #performe the action store in the policy for this specific state\n",
    "            #Belleman equation for Q          \n",
    "            value_table[state]=sum(trans_prob * (reward_prob + gamma*updated_value_table[next_state])\n",
    "                                   for trans_prob, next_state,reward_prob, _ in env.P[state][action])#for this specific state compute the probable reward for all possible actions\n",
    "        if (np.sum((np.fabs(updated_value_table - value_table))) <= threshold):\n",
    "            break\n",
    "    return value_table"
   ]
  },
  {
   "cell_type": "code",
   "execution_count": null,
   "metadata": {},
   "outputs": [],
   "source": [
    "#test_var=np.zeros(env.nS)"
   ]
  },
  {
   "cell_type": "code",
   "execution_count": null,
   "metadata": {},
   "outputs": [],
   "source": [
    "#This function extract the policy from the Q_table\n",
    "def extract_policy(value_table, gamma):\n",
    "    policy = np.zeros(env.observation_space.n) #create an array of 16 elements = number of elements in the observation space\n",
    "    for state in range(env.action_space.n):\n",
    "        Q_table=np.zeros(env.action_space.n) #Array of size of the action space for that state, can this change\n",
    "        for action in range(env.action_space.n): #iterate among the posible actions in that state\n",
    "            for next_sr in env.P[state][action]: #after taking an action, iterate over all the possible NEXT_state_reward\n",
    "                trans_prob, next_state, reward_prob, _ = next_sr \n",
    "                Q_table[action] += (trans_prob * (reward_prob + gamma * value_table[next_state])) #call the value table definition, and with that it does get the Q table\n",
    "            policy[state]=np.argmax(Q_table) #The max value in the Q table. \n",
    "            return policy"
   ]
  },
  {
   "cell_type": "code",
   "execution_count": null,
   "metadata": {},
   "outputs": [],
   "source": [
    "test_var=np.zeros(env.observation_space.n)\n",
    "print(test_var)"
   ]
  },
  {
   "cell_type": "code",
   "execution_count": null,
   "metadata": {},
   "outputs": [],
   "source": [
    "def policy_iteration(env,gamma=1):\n",
    "    random_policy = np.zeros(env.observation_space.n) #we start with an empty policy\n",
    "    #what is the observation space for our problem????\n",
    "    no_of_iterations = 200000\n",
    "    gamma=1 #define how important are the future probable rewards in the policy desicion\n",
    "    for i in range(no_of_iterations): #number of time I will iterate to get a good policy\n",
    "        new_value_function=compute_value_function(random_policy,gamma)\n",
    "        new_policy = extract_policy(new_value_function, gamma) #update the policy\n",
    "        if(np.all(random_policy == new_policy)): #if they are the same we converge\n",
    "            print ('Policy-Iteration converget at step %d.' % (i+1))\n",
    "            break\n",
    "        random_policy=new_policy\n",
    "    return new_policy\n",
    "print(policy_iteration(env))"
   ]
  },
  {
   "cell_type": "code",
   "execution_count": null,
   "metadata": {},
   "outputs": [],
   "source": []
  }
 ],
 "metadata": {
  "kernelspec": {
   "display_name": "Python 2",
   "language": "python",
   "name": "python2"
  },
  "language_info": {
   "codemirror_mode": {
    "name": "ipython",
    "version": 2
   },
   "file_extension": ".py",
   "mimetype": "text/x-python",
   "name": "python",
   "nbconvert_exporter": "python",
   "pygments_lexer": "ipython2",
   "version": "2.7.12"
  }
 },
 "nbformat": 4,
 "nbformat_minor": 2
}
