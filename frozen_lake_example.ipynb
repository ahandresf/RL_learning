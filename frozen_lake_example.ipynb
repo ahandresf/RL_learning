{
 "cells": [
  {
   "cell_type": "code",
   "execution_count": 2,
   "metadata": {},
   "outputs": [
    {
     "name": "stdout",
     "output_type": "stream",
     "text": [
      "This is my first test in open gym\n"
     ]
    },
    {
     "name": "stderr",
     "output_type": "stream",
     "text": [
      "/home/leasanspy/tensorflow/local/lib/python2.7/site-packages/h5py/__init__.py:36: FutureWarning: Conversion of the second argument of issubdtype from `float` to `np.floating` is deprecated. In future, it will be treated as `np.float64 == np.dtype(float).type`.\n",
      "  from ._conv import register_converters as _register_converters\n"
     ]
    }
   ],
   "source": [
    "print(\"This is my first test in open gym\")\n",
    "import gym\n",
    "import numpy as np\n",
    "import tensorflow as tf"
   ]
  },
  {
   "cell_type": "code",
   "execution_count": 6,
   "metadata": {},
   "outputs": [],
   "source": [
    "env = gym.make('FrozenLake-v0')"
   ]
  },
  {
   "cell_type": "code",
   "execution_count": 27,
   "metadata": {},
   "outputs": [],
   "source": [
    "#Belleman equation for Q. => return the value table\n",
    "def compute_value_function(policy,gamma=1.0):\n",
    "    value_table=np.zeros(env.nS) #initiate the value table with zeros, array of the same lenght of number of states\n",
    "    print(value_table)\n",
    "    threshold=1e-10 #when the value function change less than this we go out \n",
    "    while True:\n",
    "        update_value_table = np.copy(value_table)\n",
    "        print(\"test\")\n",
    "        for state in range(env.nS): #for each state in the enviroment states\n",
    "            action = policy(state) #performe the action store in the policy for this specific state\n",
    "            #Belleman equation for Q          \n",
    "            value_table[state]=sum(trans_prob * (reward_prob + gamma*updated_value_table[next_state])\n",
    "                                   for trans_prob, next_state,reward_prob, _ in env.P[state][action])#for this specific state compute the probable reward for all possible actions\n",
    "        if (np.sum((np.fabs(updated_value_table - value_table))) <= threshold):\n",
    "            break\n",
    "    return value_table"
   ]
  },
  {
   "cell_type": "code",
   "execution_count": 29,
   "metadata": {},
   "outputs": [],
   "source": [
    "#test_var=np.zeros(env.nS)"
   ]
  },
  {
   "cell_type": "code",
   "execution_count": 34,
   "metadata": {},
   "outputs": [],
   "source": [
    "#This function extract the policy from the Q_table\n",
    "def extract_policy(value_table, gamma):\n",
    "    policy = np.zeros(env.observation_space.n) #create an array of 16 elements = number of elements in the observation space\n",
    "    for state in range(env.action_space.n):\n",
    "        Q_table=np.zeros(env.action_space.n) #Array of size of the action space for that state, can this change\n",
    "        for action in range(env.action_space.n): #iterate among the posible actions in that state\n",
    "            for next_sr in env.P[state][action]: #after taking an action, iterate over all the possible NEXT_state_reward\n",
    "                trans_prob, next_state, reward_prob, _ = next_sr \n",
    "                Q_table[action] += (trans_prob * (reward_prob + gamma * value_table[next_state])) #call the value table definition, and with that it does get the Q table\n",
    "            policy[state]=np.argmax(Q_table) #The max value in the Q table. \n",
    "            return policy"
   ]
  },
  {
   "cell_type": "code",
   "execution_count": 32,
   "metadata": {},
   "outputs": [
    {
     "name": "stdout",
     "output_type": "stream",
     "text": [
      "[0. 0. 0. 0. 0. 0. 0. 0. 0. 0. 0. 0. 0. 0. 0. 0.]\n"
     ]
    }
   ],
   "source": [
    "test_var=np.zeros(env.observation_space.n)\n",
    "print(test_var)"
   ]
  },
  {
   "cell_type": "code",
   "execution_count": 33,
   "metadata": {},
   "outputs": [
    {
     "ename": "AttributeError",
     "evalue": "'TimeLimit' object has no attribute 'nS'",
     "output_type": "error",
     "traceback": [
      "\u001b[0;31m---------------------------------------------------------------------------\u001b[0m",
      "\u001b[0;31mAttributeError\u001b[0m                            Traceback (most recent call last)",
      "\u001b[0;32m<ipython-input-33-68a14789607a>\u001b[0m in \u001b[0;36m<module>\u001b[0;34m()\u001b[0m\n\u001b[1;32m     12\u001b[0m         \u001b[0mrandom_policy\u001b[0m\u001b[0;34m=\u001b[0m\u001b[0mnew_policy\u001b[0m\u001b[0;34m\u001b[0m\u001b[0m\n\u001b[1;32m     13\u001b[0m     \u001b[0;32mreturn\u001b[0m \u001b[0mnew_policy\u001b[0m\u001b[0;34m\u001b[0m\u001b[0m\n\u001b[0;32m---> 14\u001b[0;31m \u001b[0;32mprint\u001b[0m\u001b[0;34m(\u001b[0m\u001b[0mpolicy_iteration\u001b[0m\u001b[0;34m(\u001b[0m\u001b[0menv\u001b[0m\u001b[0;34m)\u001b[0m\u001b[0;34m)\u001b[0m\u001b[0;34m\u001b[0m\u001b[0m\n\u001b[0m",
      "\u001b[0;32m<ipython-input-33-68a14789607a>\u001b[0m in \u001b[0;36mpolicy_iteration\u001b[0;34m(env, gamma)\u001b[0m\n\u001b[1;32m      5\u001b[0m     \u001b[0mgamma\u001b[0m\u001b[0;34m=\u001b[0m\u001b[0;36m1\u001b[0m \u001b[0;31m#define how important are the future probable rewards in the policy desicion\u001b[0m\u001b[0;34m\u001b[0m\u001b[0m\n\u001b[1;32m      6\u001b[0m     \u001b[0;32mfor\u001b[0m \u001b[0mi\u001b[0m \u001b[0;32min\u001b[0m \u001b[0mrange\u001b[0m\u001b[0;34m(\u001b[0m\u001b[0mno_of_iterations\u001b[0m\u001b[0;34m)\u001b[0m\u001b[0;34m:\u001b[0m \u001b[0;31m#number of time I will iterate to get a good policy\u001b[0m\u001b[0;34m\u001b[0m\u001b[0m\n\u001b[0;32m----> 7\u001b[0;31m         \u001b[0mnew_value_function\u001b[0m\u001b[0;34m=\u001b[0m\u001b[0mcompute_value_function\u001b[0m\u001b[0;34m(\u001b[0m\u001b[0mrandom_policy\u001b[0m\u001b[0;34m,\u001b[0m\u001b[0mgamma\u001b[0m\u001b[0;34m)\u001b[0m\u001b[0;34m\u001b[0m\u001b[0m\n\u001b[0m\u001b[1;32m      8\u001b[0m         \u001b[0mnew_policy\u001b[0m \u001b[0;34m=\u001b[0m \u001b[0mextract_policy\u001b[0m\u001b[0;34m(\u001b[0m\u001b[0mnew_value_function\u001b[0m\u001b[0;34m,\u001b[0m \u001b[0mgamma\u001b[0m\u001b[0;34m)\u001b[0m \u001b[0;31m#update the policy\u001b[0m\u001b[0;34m\u001b[0m\u001b[0m\n\u001b[1;32m      9\u001b[0m         \u001b[0;32mif\u001b[0m\u001b[0;34m(\u001b[0m\u001b[0mnp\u001b[0m\u001b[0;34m.\u001b[0m\u001b[0mall\u001b[0m\u001b[0;34m(\u001b[0m\u001b[0mrandom_policy\u001b[0m \u001b[0;34m==\u001b[0m \u001b[0mnew_policy\u001b[0m\u001b[0;34m)\u001b[0m\u001b[0;34m)\u001b[0m\u001b[0;34m:\u001b[0m \u001b[0;31m#if they are the same we converge\u001b[0m\u001b[0;34m\u001b[0m\u001b[0m\n",
      "\u001b[0;32m<ipython-input-27-b3fb0226377a>\u001b[0m in \u001b[0;36mcompute_value_function\u001b[0;34m(policy, gamma)\u001b[0m\n\u001b[1;32m      1\u001b[0m \u001b[0;31m#Belleman equation for Q. => return the value table\u001b[0m\u001b[0;34m\u001b[0m\u001b[0;34m\u001b[0m\u001b[0m\n\u001b[1;32m      2\u001b[0m \u001b[0;32mdef\u001b[0m \u001b[0mcompute_value_function\u001b[0m\u001b[0;34m(\u001b[0m\u001b[0mpolicy\u001b[0m\u001b[0;34m,\u001b[0m\u001b[0mgamma\u001b[0m\u001b[0;34m=\u001b[0m\u001b[0;36m1.0\u001b[0m\u001b[0;34m)\u001b[0m\u001b[0;34m:\u001b[0m\u001b[0;34m\u001b[0m\u001b[0m\n\u001b[0;32m----> 3\u001b[0;31m     \u001b[0mvalue_table\u001b[0m\u001b[0;34m=\u001b[0m\u001b[0mnp\u001b[0m\u001b[0;34m.\u001b[0m\u001b[0mzeros\u001b[0m\u001b[0;34m(\u001b[0m\u001b[0menv\u001b[0m\u001b[0;34m.\u001b[0m\u001b[0mnS\u001b[0m\u001b[0;34m)\u001b[0m \u001b[0;31m#initiate the value table with zeros, array of the same lenght of number of states\u001b[0m\u001b[0;34m\u001b[0m\u001b[0m\n\u001b[0m\u001b[1;32m      4\u001b[0m     \u001b[0;32mprint\u001b[0m\u001b[0;34m(\u001b[0m\u001b[0mvalue_table\u001b[0m\u001b[0;34m)\u001b[0m\u001b[0;34m\u001b[0m\u001b[0m\n\u001b[1;32m      5\u001b[0m     \u001b[0mthreshold\u001b[0m\u001b[0;34m=\u001b[0m\u001b[0;36m1e-10\u001b[0m \u001b[0;31m#when the value function change less than this we go out\u001b[0m\u001b[0;34m\u001b[0m\u001b[0m\n",
      "\u001b[0;31mAttributeError\u001b[0m: 'TimeLimit' object has no attribute 'nS'"
     ]
    }
   ],
   "source": [
    "def policy_iteration(env,gamma=1):\n",
    "    random_policy = np.zeros(env.observation_space.n) #we start with an empty policy\n",
    "    #what is the observation space for our problem????\n",
    "    no_of_iterations = 200000\n",
    "    gamma=1 #define how important are the future probable rewards in the policy desicion\n",
    "    for i in range(no_of_iterations): #number of time I will iterate to get a good policy\n",
    "        new_value_function=compute_value_function(random_policy,gamma)\n",
    "        new_policy = extract_policy(new_value_function, gamma) #update the policy\n",
    "        if(np.all(random_policy == new_policy)): #if they are the same we converge\n",
    "            print ('Policy-Iteration converget at step %d.' % (i+1))\n",
    "            break\n",
    "        random_policy=new_policy\n",
    "    return new_policy\n",
    "print(policy_iteration(env))"
   ]
  },
  {
   "cell_type": "code",
   "execution_count": null,
   "metadata": {},
   "outputs": [],
   "source": []
  }
 ],
 "metadata": {
  "kernelspec": {
   "display_name": "Python 2",
   "language": "python",
   "name": "python2"
  },
  "language_info": {
   "codemirror_mode": {
    "name": "ipython",
    "version": 2
   },
   "file_extension": ".py",
   "mimetype": "text/x-python",
   "name": "python",
   "nbconvert_exporter": "python",
   "pygments_lexer": "ipython2",
   "version": "2.7.12"
  }
 },
 "nbformat": 4,
 "nbformat_minor": 2
}
